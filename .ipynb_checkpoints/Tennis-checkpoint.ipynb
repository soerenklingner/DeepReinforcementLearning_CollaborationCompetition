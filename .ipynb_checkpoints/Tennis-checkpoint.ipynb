{
 "cells": [
  {
   "cell_type": "markdown",
   "metadata": {},
   "source": [
    "# Collaboration and Competition\n",
    "\n",
    "---\n",
    "\n",
    "In this notebook, you will learn how to use the Unity ML-Agents environment for the third project of the [Deep Reinforcement Learning Nanodegree](https://www.udacity.com/course/deep-reinforcement-learning-nanodegree--nd893) program.\n",
    "\n",
    "### 1. Start the Environment\n",
    "\n",
    "We begin by importing the necessary packages.  If the code cell below returns an error, please revisit the project instructions to double-check that you have installed [Unity ML-Agents](https://github.com/Unity-Technologies/ml-agents/blob/master/docs/Installation.md) and [NumPy](http://www.numpy.org/)."
   ]
  },
  {
   "cell_type": "code",
   "execution_count": 1,
   "metadata": {},
   "outputs": [],
   "source": [
    "from unityagents import UnityEnvironment\n",
    "import numpy as np\n",
    "import time\n",
    "from datetime import datetime, timedelta\n",
    "from collections import deque\n",
    "import matplotlib.pyplot as plt\n",
    "%matplotlib inline\n",
    "\n",
    "import torch\n",
    "from ddpg_agent import Agent\n",
    "\n",
    "STORE_MODELS = True # False # True - Turn it on when you are ready to do the calibration training"
   ]
  },
  {
   "cell_type": "markdown",
   "metadata": {},
   "source": [
    "Next, we will start the environment!  **_Before running the code cell below_**, change the `file_name` parameter to match the location of the Unity environment that you downloaded.\n",
    "\n",
    "- **Mac**: `\"path/to/Tennis.app\"`\n",
    "- **Windows** (x86): `\"path/to/Tennis_Windows_x86/Tennis.exe\"`\n",
    "- **Windows** (x86_64): `\"path/to/Tennis_Windows_x86_64/Tennis.exe\"`\n",
    "- **Linux** (x86): `\"path/to/Tennis_Linux/Tennis.x86\"`\n",
    "- **Linux** (x86_64): `\"path/to/Tennis_Linux/Tennis.x86_64\"`\n",
    "- **Linux** (x86, headless): `\"path/to/Tennis_Linux_NoVis/Tennis.x86\"`\n",
    "- **Linux** (x86_64, headless): `\"path/to/Tennis_Linux_NoVis/Tennis.x86_64\"`\n",
    "\n",
    "For instance, if you are using a Mac, then you downloaded `Tennis.app`.  If this file is in the same folder as the notebook, then the line below should appear as follows:\n",
    "```\n",
    "env = UnityEnvironment(file_name=\"Tennis.app\")\n",
    "```"
   ]
  },
  {
   "cell_type": "code",
   "execution_count": 2,
   "metadata": {},
   "outputs": [
    {
     "name": "stderr",
     "output_type": "stream",
     "text": [
      "INFO:unityagents:\n",
      "'Academy' started successfully!\n",
      "Unity Academy name: Academy\n",
      "        Number of Brains: 1\n",
      "        Number of External Brains : 1\n",
      "        Lesson number : 0\n",
      "        Reset Parameters :\n",
      "\t\t\n",
      "Unity brain name: TennisBrain\n",
      "        Number of Visual Observations (per agent): 0\n",
      "        Vector Observation space type: continuous\n",
      "        Vector Observation space size (per agent): 8\n",
      "        Number of stacked Vector Observation: 3\n",
      "        Vector Action space type: continuous\n",
      "        Vector Action space size (per agent): 2\n",
      "        Vector Action descriptions: , \n"
     ]
    }
   ],
   "source": [
    "env = UnityEnvironment(file_name=\"./Tennis_Windows_x86_64/Tennis.exe\")"
   ]
  },
  {
   "cell_type": "markdown",
   "metadata": {},
   "source": [
    "Environments contain **_brains_** which are responsible for deciding the actions of their associated agents. Here we check for the first brain available, and set it as the default brain we will be controlling from Python."
   ]
  },
  {
   "cell_type": "code",
   "execution_count": 3,
   "metadata": {},
   "outputs": [],
   "source": [
    "# get the default brain\n",
    "brain_name = env.brain_names[0]\n",
    "brain = env.brains[brain_name]"
   ]
  },
  {
   "cell_type": "markdown",
   "metadata": {},
   "source": [
    "### 2. Examine the State and Action Spaces\n",
    "\n",
    "In this environment, two agents control rackets to bounce a ball over a net. If an agent hits the ball over the net, it receives a reward of +0.1.  If an agent lets a ball hit the ground or hits the ball out of bounds, it receives a reward of -0.01.  Thus, the goal of each agent is to keep the ball in play.\n",
    "\n",
    "The observation space consists of 8 variables corresponding to the position and velocity of the ball and racket. Two continuous actions are available, corresponding to movement toward (or away from) the net, and jumping. \n",
    "\n",
    "Run the code cell below to print some information about the environment."
   ]
  },
  {
   "cell_type": "code",
   "execution_count": 4,
   "metadata": {},
   "outputs": [
    {
     "name": "stdout",
     "output_type": "stream",
     "text": [
      "Number of agents: 2\n",
      "Size of each action: 2\n",
      "There are 2 agents. Each observes a state with length: 24\n",
      "The state for the first agent looks like: [ 0.          0.          0.          0.          0.          0.\n",
      "  0.          0.          0.          0.          0.          0.\n",
      "  0.          0.          0.          0.         -6.65278625 -1.5\n",
      " -0.          0.          6.83172083  6.         -0.          0.        ]\n"
     ]
    }
   ],
   "source": [
    "# reset the environment\n",
    "env_info = env.reset(train_mode=True)[brain_name]\n",
    "\n",
    "# number of agents \n",
    "num_agents = len(env_info.agents)\n",
    "print('Number of agents:', num_agents)\n",
    "\n",
    "# size of each action\n",
    "action_size = brain.vector_action_space_size\n",
    "print('Size of each action:', action_size)\n",
    "\n",
    "# examine the state space \n",
    "states = env_info.vector_observations\n",
    "state_size = states.shape[1]\n",
    "print('There are {} agents. Each observes a state with length: {}'.format(states.shape[0], state_size))\n",
    "print('The state for the first agent looks like:', states[0])"
   ]
  },
  {
   "cell_type": "markdown",
   "metadata": {},
   "source": [
    "### 4. It's Your Turn!\n",
    "\n",
    "Now it's your turn to train your own agent to solve the environment!  When training the environment, set `train_mode=True`, so that the line for resetting the environment looks like the following:\n",
    "```python\n",
    "env_info = env.reset(train_mode=True)[brain_name]\n",
    "```"
   ]
  },
  {
   "cell_type": "code",
   "execution_count": 5,
   "metadata": {},
   "outputs": [
    {
     "name": "stdout",
     "output_type": "stream",
     "text": [
      "Actor(\n",
      "  (fc1): Linear(in_features=24, out_features=400, bias=True)\n",
      "  (fc2): Linear(in_features=400, out_features=300, bias=True)\n",
      "  (fc3): Linear(in_features=300, out_features=2, bias=True)\n",
      ")\n",
      "Critic(\n",
      "  (fcs1): Linear(in_features=24, out_features=400, bias=True)\n",
      "  (fc2): Linear(in_features=402, out_features=300, bias=True)\n",
      "  (fc3): Linear(in_features=300, out_features=1, bias=True)\n",
      ")\n"
     ]
    }
   ],
   "source": [
    "agents = Agent(state_size=state_size, \n",
    "              action_size=action_size,\n",
    "              num_agents=num_agents, \n",
    "              random_seed=0)\n",
    "print(agents.actor_local)\n",
    "print(agents.critic_local)"
   ]
  },
  {
   "cell_type": "code",
   "execution_count": 6,
   "metadata": {},
   "outputs": [],
   "source": [
    "def ddpg(n_episodes=10000, max_t=1000):\n",
    "    scores_deque = deque(maxlen=100)\n",
    "    scores = []\n",
    "    avg_score_list = []\n",
    "    for i_episode in range(1, n_episodes+1):\n",
    "        env_info = env.reset(train_mode=True)[brain_name]\n",
    "        state = env_info.vector_observations\n",
    "        agents.reset()\n",
    "        score = np.zeros(num_agents)\n",
    "        for t in range(max_t):\n",
    "            action = agents.act(state)\n",
    "            env_info = env.step(action)[brain_name]\n",
    "            next_state = env_info.vector_observations\n",
    "            rewards = env_info.rewards\n",
    "            dones = env_info.local_done\n",
    "            agents.step(state, action, rewards, next_state, dones)\n",
    "            state = next_state\n",
    "            score += rewards\n",
    "            if np.any(dones):\n",
    "                break \n",
    "        scores_deque.append(np.mean(score))\n",
    "        scores.append(np.mean(score))\n",
    "        avg_score = np.mean(scores_deque)\n",
    "        avg_score_list.append(avg_score)\n",
    "        print('\\rEpisode {}\\tAverage Score: {:.2f}\\tScore: {:.3f}'.\\\n",
    "              format(i_episode, avg_score, np.mean(score)), end=\"\")      \n",
    "        if i_episode % 50 == 0 or avg_score > 0.5:\n",
    "            print('\\rEpisode {}\\tAverage Score: {:.2f}'.format(i_episode, avg_score))\n",
    "            torch.save(agents.actor_local.state_dict(), 'checkpoint_actor.pth')\n",
    "            torch.save(agents.critic_local.state_dict(), 'checkpoint_critic.pth') \n",
    "            if avg_score > 0.5:\n",
    "                print('\\nEnvironment solved in {:d} episodes!'.format(i_episode))\n",
    "                break\n",
    "        \n",
    "    return scores, avg_score_list"
   ]
  },
  {
   "cell_type": "code",
   "execution_count": 7,
   "metadata": {},
   "outputs": [
    {
     "name": "stdout",
     "output_type": "stream",
     "text": [
      "Episode 50\tAverage Score: -0.00\tScore: -0.005\n",
      "Episode 100\tAverage Score: -0.00\tScore: -0.005\n",
      "Episode 150\tAverage Score: -0.00\tScore: -0.005\n",
      "Episode 200\tAverage Score: -0.00\tScore: -0.005\n",
      "Episode 250\tAverage Score: -0.00\tScore: -0.005\n",
      "Episode 300\tAverage Score: -0.00\tScore: -0.005\n",
      "Episode 350\tAverage Score: -0.00\tScore: -0.005\n",
      "Episode 400\tAverage Score: -0.00\tScore: -0.005\n",
      "Episode 450\tAverage Score: -0.00\tScore: -0.005\n",
      "Episode 500\tAverage Score: -0.00\tScore: -0.005\n",
      "Episode 550\tAverage Score: -0.00\tScore: -0.005\n",
      "Episode 600\tAverage Score: -0.00\tScore: -0.005\n",
      "Episode 650\tAverage Score: -0.00\tScore: -0.005\n",
      "Episode 700\tAverage Score: -0.00\tScore: -0.005\n",
      "Episode 750\tAverage Score: -0.00\tScore: -0.005\n",
      "Episode 800\tAverage Score: -0.00\tScore: -0.005\n",
      "Episode 850\tAverage Score: -0.00\tScore: -0.005\n",
      "Episode 900\tAverage Score: -0.00\tScore: -0.005\n",
      "Episode 950\tAverage Score: -0.00\tScore: -0.005\n",
      "Episode 1000\tAverage Score: -0.00\tScore: -0.005\n",
      "Episode 1050\tAverage Score: -0.00\tScore: -0.005\n",
      "Episode 1100\tAverage Score: -0.00\tScore: -0.005\n",
      "Episode 1150\tAverage Score: -0.00\tScore: -0.005\n",
      "Episode 1200\tAverage Score: -0.00\tScore: -0.005\n",
      "Episode 1250\tAverage Score: -0.00\tScore: -0.005\n",
      "Episode 1300\tAverage Score: -0.00\tScore: -0.005\n",
      "Episode 1350\tAverage Score: -0.00\tScore: -0.005\n",
      "Episode 1400\tAverage Score: -0.00\tScore: -0.005\n",
      "Episode 1450\tAverage Score: -0.00\tScore: -0.005\n",
      "Episode 1500\tAverage Score: -0.00\tScore: -0.005\n",
      "Episode 1550\tAverage Score: -0.00\tScore: -0.005\n",
      "Episode 1600\tAverage Score: -0.00\tScore: -0.005\n",
      "Episode 1650\tAverage Score: -0.00\tScore: -0.005\n",
      "Episode 1700\tAverage Score: -0.00\tScore: -0.005\n",
      "Episode 1750\tAverage Score: -0.00\tScore: -0.005\n",
      "Episode 1800\tAverage Score: -0.00\tScore: -0.005\n",
      "Episode 1850\tAverage Score: -0.00\tScore: -0.005\n",
      "Episode 1900\tAverage Score: -0.00\tScore: -0.005\n",
      "Episode 1950\tAverage Score: -0.00\tScore: -0.005\n",
      "Episode 2000\tAverage Score: -0.00\tScore: -0.005\n",
      "Episode 2050\tAverage Score: -0.00\tScore: -0.005\n",
      "Episode 2100\tAverage Score: -0.00\tScore: -0.005\n",
      "Episode 2150\tAverage Score: -0.00\tScore: -0.005\n",
      "Episode 2200\tAverage Score: -0.00\tScore: -0.005\n",
      "Episode 2250\tAverage Score: -0.00\tScore: -0.005\n",
      "Episode 2300\tAverage Score: -0.00\tScore: -0.005\n",
      "Episode 2350\tAverage Score: -0.00\tScore: -0.005\n",
      "Episode 2400\tAverage Score: -0.00\tScore: -0.005\n",
      "Episode 2450\tAverage Score: -0.00\tScore: -0.005\n",
      "Episode 2500\tAverage Score: -0.00\tScore: -0.005\n",
      "Episode 2550\tAverage Score: -0.00\tScore: -0.005\n",
      "Episode 2600\tAverage Score: -0.00\tScore: -0.005\n",
      "Episode 2650\tAverage Score: -0.00\tScore: -0.005\n",
      "Episode 2700\tAverage Score: -0.00\tScore: -0.005\n",
      "Episode 2750\tAverage Score: -0.00\tScore: -0.005\n",
      "Episode 2800\tAverage Score: -0.00\tScore: -0.005\n",
      "Episode 2850\tAverage Score: -0.00\tScore: -0.005\n",
      "Episode 2900\tAverage Score: -0.00\tScore: -0.005\n",
      "Episode 2950\tAverage Score: -0.00\tScore: -0.005\n",
      "Episode 3000\tAverage Score: -0.00\tScore: -0.005\n",
      "Episode 3050\tAverage Score: -0.00\tScore: -0.005\n",
      "Episode 3100\tAverage Score: -0.00\tScore: -0.005\n",
      "Episode 3150\tAverage Score: -0.00\tScore: -0.005\n",
      "Episode 3200\tAverage Score: -0.00\tScore: -0.005\n",
      "Episode 3250\tAverage Score: -0.00\tScore: -0.005\n",
      "Episode 3300\tAverage Score: -0.00\tScore: -0.005\n",
      "Episode 3350\tAverage Score: -0.00\tScore: -0.005\n",
      "Episode 3400\tAverage Score: -0.00\tScore: -0.005\n",
      "Episode 3450\tAverage Score: -0.00\tScore: -0.005\n",
      "Episode 3500\tAverage Score: -0.00\tScore: -0.005\n",
      "Episode 3550\tAverage Score: -0.00\tScore: -0.005\n",
      "Episode 3600\tAverage Score: -0.00\tScore: -0.005\n",
      "Episode 3650\tAverage Score: -0.00\tScore: -0.005\n",
      "Episode 3700\tAverage Score: -0.00\tScore: -0.005\n",
      "Episode 3750\tAverage Score: -0.00\tScore: -0.005\n",
      "Episode 3800\tAverage Score: -0.00\tScore: -0.005\n",
      "Episode 3850\tAverage Score: -0.00\tScore: -0.005\n",
      "Episode 3900\tAverage Score: -0.00\tScore: -0.005\n",
      "Episode 3950\tAverage Score: -0.00\tScore: -0.005\n",
      "Episode 4000\tAverage Score: -0.00\tScore: -0.005\n",
      "Episode 4050\tAverage Score: -0.00\tScore: -0.005\n",
      "Episode 4100\tAverage Score: -0.00\tScore: -0.005\n",
      "Episode 4150\tAverage Score: -0.00\tScore: -0.005\n",
      "Episode 4200\tAverage Score: -0.00\tScore: -0.005\n",
      "Episode 4250\tAverage Score: -0.00\tScore: -0.005\n",
      "Episode 4300\tAverage Score: -0.00\tScore: -0.005\n",
      "Episode 4350\tAverage Score: -0.00\tScore: -0.005\n",
      "Episode 4400\tAverage Score: -0.00\tScore: -0.005\n",
      "Episode 4450\tAverage Score: -0.00\tScore: -0.005\n",
      "Episode 4500\tAverage Score: -0.00\tScore: -0.005\n",
      "Episode 4550\tAverage Score: -0.00\tScore: -0.005\n",
      "Episode 4600\tAverage Score: -0.00\tScore: -0.005\n",
      "Episode 4650\tAverage Score: -0.00\tScore: -0.005\n",
      "Episode 4700\tAverage Score: -0.00\tScore: -0.005\n",
      "Episode 4750\tAverage Score: -0.00\tScore: -0.005\n",
      "Episode 4800\tAverage Score: -0.00\tScore: -0.005\n",
      "Episode 4850\tAverage Score: -0.00\tScore: -0.005\n",
      "Episode 4900\tAverage Score: -0.00\tScore: -0.005\n",
      "Episode 4950\tAverage Score: -0.00\tScore: -0.005\n",
      "Episode 5000\tAverage Score: -0.00\tScore: -0.005\n"
     ]
    }
   ],
   "source": [
    "scores, avg_score_list = ddpg()"
   ]
  },
  {
   "cell_type": "code",
   "execution_count": null,
   "metadata": {},
   "outputs": [],
   "source": [
    "fig = plt.figure()\n",
    "ax = fig.add_subplot(111)\n",
    "plt.plot(np.arange(1, len(scores)+1), scores)\n",
    "plt.plot(np.arange(1, len(avg_score_list)+1), avg_score_list)\n",
    "plt.ylabel('Score')\n",
    "plt.xlabel('Episode #')\n",
    "plt.show()"
   ]
  },
  {
   "cell_type": "code",
   "execution_count": null,
   "metadata": {},
   "outputs": [],
   "source": [
    "env.close()"
   ]
  }
 ],
 "metadata": {
  "kernelspec": {
   "display_name": "drlnd",
   "language": "python",
   "name": "drlnd"
  },
  "language_info": {
   "codemirror_mode": {
    "name": "ipython",
    "version": 3
   },
   "file_extension": ".py",
   "mimetype": "text/x-python",
   "name": "python",
   "nbconvert_exporter": "python",
   "pygments_lexer": "ipython3",
   "version": "3.6.10"
  }
 },
 "nbformat": 4,
 "nbformat_minor": 2
}
